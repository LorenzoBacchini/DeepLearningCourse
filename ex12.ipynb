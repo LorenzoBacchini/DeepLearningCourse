{
 "cells": [
  {
   "cell_type": "markdown",
   "id": "a0f4101c-0ee4-4bc7-8c15-410a2fac5a7c",
   "metadata": {},
   "source": [
    "# Visualizing Training Statistics with Tensorboard\n",
    "PyTorch integrates with TensorBoard, a tool designed for visualizing the results of neural network training runs.\n",
    "\n",
    "In this tutorial, we’ll learn how to:\n",
    "\n",
    "- Set up TensorBoard.\n",
    "\n",
    "- Write to TensorBoard.\n",
    "\n",
    "- Inspect a model architecture using TensorBoard.\n",
    "\n",
    "- Use TensorBoard to create interactive versions of the statistics visualizations (like loss, accuracy, etc..)"
   ]
  },
  {
   "cell_type": "code",
   "execution_count": 1,
   "id": "2055d69c-bfa4-4492-8eaa-9a936e5d5fcf",
   "metadata": {},
   "outputs": [
    {
     "name": "stderr",
     "output_type": "stream",
     "text": [
      "C:\\miniconda3\\envs\\pytorch\\lib\\site-packages\\tqdm\\auto.py:22: TqdmWarning: IProgress not found. Please update jupyter and ipywidgets. See https://ipywidgets.readthedocs.io/en/stable/user_install.html\n",
      "  from .autonotebook import tqdm as notebook_tqdm\n"
     ]
    }
   ],
   "source": [
    "# imports\n",
    "import matplotlib.pyplot as plt\n",
    "import numpy as np\n",
    "\n",
    "import torch\n",
    "import torchvision\n",
    "import torchvision.transforms as transforms\n",
    "\n",
    "import torch.nn as nn\n",
    "import torch.nn.functional as F\n",
    "import torch.optim as optim\n",
    "\n",
    "# transforms\n",
    "transform = transforms.Compose(\n",
    "    [transforms.ToTensor(),\n",
    "    transforms.Normalize((0.5,), (0.5,))])\n",
    "\n",
    "# datasets\n",
    "trainset = torchvision.datasets.FashionMNIST('./data',\n",
    "    download=True,\n",
    "    train=True,\n",
    "    transform=transform)\n",
    "testset = torchvision.datasets.FashionMNIST('./data',\n",
    "    download=True,\n",
    "    train=False,\n",
    "    transform=transform)\n",
    "\n",
    "# dataloaders\n",
    "trainloader = torch.utils.data.DataLoader(trainset, batch_size=4,\n",
    "                                        shuffle=True, num_workers=2)\n",
    "\n",
    "\n",
    "testloader = torch.utils.data.DataLoader(testset, batch_size=4,\n",
    "                                        shuffle=False, num_workers=2)\n",
    "\n",
    "# constant for classes\n",
    "classes = ('T-shirt/top', 'Trouser', 'Pullover', 'Dress', 'Coat',\n",
    "        'Sandal', 'Shirt', 'Sneaker', 'Bag', 'Ankle Boot')\n",
    "\n",
    "# helper function to show an image\n",
    "# (used in the `plot_classes_preds` function below)\n",
    "def matplotlib_imshow(img, one_channel=False):\n",
    "    img = img.cpu()\n",
    "    if one_channel:\n",
    "        img = img.mean(dim=0)\n",
    "    img = img / 2 + 0.5     # unnormalize\n",
    "    \n",
    "    to_pil = transforms.ToPILImage()\n",
    "    \n",
    "    if one_channel:\n",
    "        npimg = img.numpy()\n",
    "        plt.imshow(npimg, cmap=\"Greys\")\n",
    "    else:\n",
    "        plt.imshow(to_pil(img))"
   ]
  },
  {
   "cell_type": "code",
   "execution_count": 9,
   "id": "bf4dc907-e72e-4ff7-ae93-235f51aac149",
   "metadata": {},
   "outputs": [],
   "source": [
    "# let's define a model\n",
    "class Net(nn.Module):\n",
    "    def __init__(self):\n",
    "        super(Net, self).__init__()\n",
    "        self.conv1 = nn.Conv2d(1, 16, 5)\n",
    "        self.pool = nn.MaxPool2d(2, 2)\n",
    "        self.conv2 = nn.Conv2d(16, 32, 5)\n",
    "        self.fc1 = nn.Linear(32 * 4 * 4, 120)\n",
    "        self.fc2 = nn.Linear(120, 84)\n",
    "        self.fc3 = nn.Linear(84, 10)\n",
    "\n",
    "    def forward(self, x):\n",
    "        x = self.pool(F.relu(self.conv1(x)))\n",
    "        x = self.pool(F.relu(self.conv2(x)))\n",
    "        x = x.view(-1, 32 * 4 * 4)\n",
    "        x = F.relu(self.fc1(x))\n",
    "        x = F.relu(self.fc2(x))\n",
    "        x = self.fc3(x)\n",
    "        return x\n",
    "\n",
    "device = torch.device('cuda') if torch.cuda.is_available() else torch.device('cpu')\n",
    "net = Net().to(device)"
   ]
  },
  {
   "cell_type": "code",
   "execution_count": 10,
   "id": "2a18ba83-406d-4730-a830-dd7dd5df1520",
   "metadata": {},
   "outputs": [],
   "source": [
    "# Optimizer and loss function\n",
    "criterion = nn.CrossEntropyLoss()\n",
    "#optimizer = optim.SGD(net.parameters(), lr=0.001, momentum=0.9)\n",
    "optimizer = optim.Adam(net.parameters(), lr=0.001)"
   ]
  },
  {
   "cell_type": "markdown",
   "id": "2faa26b0-1d7b-427b-82ea-5bd771ff592e",
   "metadata": {},
   "source": [
    "Now we’ll set up TensorBoard, importing tensorboard from <code>torch.utils</code> and defining a <code>SummaryWriter</code>, our key object for writing information to TensorBoard."
   ]
  },
  {
   "cell_type": "code",
   "execution_count": 11,
   "id": "d4448f4c-13c0-4c51-b78d-d360a0dd6977",
   "metadata": {},
   "outputs": [],
   "source": [
    "from torch.utils.tensorboard import SummaryWriter\n",
    "\n",
    "# default `log_dir` is \"runs\" - we'll be more specific here\n",
    "writer = SummaryWriter('./runs/fashion_mnist_experiment_2')"
   ]
  },
  {
   "cell_type": "markdown",
   "id": "31dd04fa-907f-4bcb-9e71-90d61e32c812",
   "metadata": {},
   "source": [
    "Now let’s write an image to our TensorBoard - specifically, a grid using <code>make_grid</code>."
   ]
  },
  {
   "cell_type": "code",
   "execution_count": 12,
   "id": "60810f77-e4e0-4982-90da-1856914b28d4",
   "metadata": {},
   "outputs": [
    {
     "data": {
      "image/png": "[encoded data removed]",
      "text/plain": [
       "<Figure size 640x480 with 1 Axes>"
      ]
     },
     "metadata": {},
     "output_type": "display_data"
    }
   ],
   "source": [
    "# get some random training images\n",
    "dataiter = iter(trainloader)\n",
    "images, labels = next(dataiter)\n",
    "\n",
    "# create grid of images\n",
    "img_grid = torchvision.utils.make_grid(images)\n",
    "\n",
    "# show images\n",
    "matplotlib_imshow(img_grid, one_channel=True)\n",
    "\n",
    "# write to tensorboard\n",
    "writer.add_image('four_fashion_mnist_images', img_grid)"
   ]
  },
  {
   "cell_type": "markdown",
   "id": "f9f256bd-14ee-40a6-b5c7-4a192e036d18",
   "metadata": {},
   "source": [
    "### Now lets run:\n",
    "<code>tensorboard --logdir=runs</code>"
   ]
  },
  {
   "cell_type": "markdown",
   "id": "1a9bd9d6-cc1e-47ac-94cc-a98cd533615d",
   "metadata": {},
   "source": [
    "One of TensorBoard’s strengths is its ability to visualize complex model structures. Let’s visualize the model we built."
   ]
  },
  {
   "cell_type": "code",
   "execution_count": 13,
   "id": "b092e504-a3ca-48dd-ab9d-beee3d5151d6",
   "metadata": {},
   "outputs": [],
   "source": [
    "writer.add_graph(net, images.to(device))\n",
    "writer.close()"
   ]
  },
  {
   "cell_type": "markdown",
   "id": "5374bbde-eb0c-438a-b87a-03fe944e3940",
   "metadata": {},
   "source": [
    "## Tracking Model Training"
   ]
  },
  {
   "cell_type": "code",
   "execution_count": 14,
   "id": "e6f297e3-aca3-4328-836e-4c3dd93d4add",
   "metadata": {},
   "outputs": [],
   "source": [
    "# helper functions\n",
    "\n",
    "def images_to_probs(net, images):\n",
    "    '''\n",
    "    Generates predictions and corresponding probabilities from a trained\n",
    "    network and a list of images\n",
    "    '''\n",
    "    output = net(images)\n",
    "    # convert output probabilities to predicted class\n",
    "    _, preds_tensor = torch.max(output, 1)\n",
    "    preds = np.squeeze(preds_tensor.cpu().numpy())\n",
    "    return preds, [F.softmax(el, dim=0)[i].item() for i, el in zip(preds, output)]\n",
    "\n",
    "\n",
    "def plot_classes_preds(net, images, labels):\n",
    "    '''\n",
    "    Generates matplotlib Figure using a trained network, along with images\n",
    "    and labels from a batch, that shows the network's top prediction along\n",
    "    with its probability, alongside the actual label, coloring this\n",
    "    information based on whether the prediction was correct or not.\n",
    "    Uses the \"images_to_probs\" function.\n",
    "    '''\n",
    "    preds, probs = images_to_probs(net, images)\n",
    "    # plot the images in the batch, along with predicted and true labels\n",
    "    fig = plt.figure(figsize=(12, 12))\n",
    "    for idx in np.arange(4):\n",
    "        ax = fig.add_subplot(1, 4, idx+1, xticks=[], yticks=[])\n",
    "        matplotlib_imshow(images[idx], one_channel=True)\n",
    "        ax.set_title(\"{0}, {1:.1f}%\\n(label: {2})\".format(\n",
    "            classes[preds[idx]],\n",
    "            probs[idx] * 100.0,\n",
    "            classes[labels[idx]]),\n",
    "                    color=(\"green\" if preds[idx]==labels[idx].item() else \"red\"))\n",
    "    return fig"
   ]
  },
  {
   "cell_type": "markdown",
   "id": "070cb570-837c-47af-bf6f-73a669f33392",
   "metadata": {},
   "source": [
    "Finally, let’s train the model using the usual model training code, but writing results to TensorBoard every 1000 batches instead of printing to console; this is done using the <code>add_scalar</code> function."
   ]
  },
  {
   "cell_type": "code",
   "execution_count": 15,
   "id": "9c9c5e29-17da-428c-9e5b-01e3c5f649d2",
   "metadata": {},
   "outputs": [],
   "source": [
    "from matplotlib.lines import Line2D\n",
    "\n",
    "# get gradients list for each layer in the network\n",
    "def add_gradient_hist(net):\n",
    "    ave_grads = [] \n",
    "    layers = []\n",
    "    for n,p in net.named_parameters():\n",
    "        if (\"bias\" not in n):\n",
    "            layers.append(n)\n",
    "            if p.requires_grad: \n",
    "                ave_grad = np.abs(p.grad.clone().detach().cpu().numpy()).mean()\n",
    "            else:\n",
    "                ave_grad = 0\n",
    "            ave_grads.append(ave_grad)\n",
    "        \n",
    "    layers = [layers[i].replace(\".weight\", \"\") for i in range(len(layers))]\n",
    "    \n",
    "    fig = plt.figure(figsize=(12, 12))\n",
    "    plt.bar(np.arange(len(ave_grads)), ave_grads, lw=1, color=\"b\")\n",
    "    plt.hlines(0, 0, len(ave_grads) + 1, lw=2, color=\"k\")\n",
    "    plt.xticks(range(0, len(ave_grads), 1), layers, rotation=90)\n",
    "    plt.xlim(left=0, right=len(ave_grads))\n",
    "    plt.ylim(bottom=-0.001, top=np.max(ave_grads) / 2)  # zoom in on the lower gradient regions\n",
    "    plt.xlabel(\"Layers\")\n",
    "    plt.ylabel(\"average gradient\")\n",
    "    plt.title(\"Gradient flow\")\n",
    "    #plt.grid(True)\n",
    "    plt.legend([Line2D([0], [0], color=\"b\", lw=4),\n",
    "                Line2D([0], [0], color=\"k\", lw=4)], ['mean-gradient', 'zero-gradient'])\n",
    "    plt.tight_layout()\n",
    "    #plt.show()\n",
    "    \n",
    "    return fig\n",
    "\n",
    "        \n",
    "\n",
    "        "
   ]
  },
  {
   "cell_type": "code",
   "execution_count": 16,
   "id": "588636ba-7ac5-4b1e-b089-dae09e41444e",
   "metadata": {},
   "outputs": [
    {
     "name": "stdout",
     "output_type": "stream",
     "text": [
      "It: 999 Loss: 0.878252990805544 Accuracy: 0.67575\n",
      "It: 1999 Loss: 0.5932357957079075 Accuracy: 0.77425\n",
      "It: 2999 Loss: 0.537236680726055 Accuracy: 0.799\n",
      "It: 3999 Loss: 0.5003730681920715 Accuracy: 0.80975\n",
      "It: 4999 Loss: 0.4418067180409762 Accuracy: 0.8365\n",
      "It: 5999 Loss: 0.4250554295062102 Accuracy: 0.85\n",
      "It: 6999 Loss: 0.40437664734074497 Accuracy: 0.85025\n",
      "It: 7999 Loss: 0.40573926681900047 Accuracy: 0.85525\n",
      "It: 8999 Loss: 0.3900534713118977 Accuracy: 0.859\n",
      "It: 9999 Loss: 0.38294347024893977 Accuracy: 0.8605\n",
      "It: 10999 Loss: 0.3586829485435742 Accuracy: 0.86925\n",
      "It: 11999 Loss: 0.35511614100210454 Accuracy: 0.8675\n",
      "It: 12999 Loss: 0.3602221917134734 Accuracy: 0.864\n",
      "It: 13999 Loss: 0.3603156925897201 Accuracy: 0.8725\n",
      "It: 14999 Loss: 0.386505850834521 Accuracy: 0.8625\n",
      "Finished Training\n"
     ]
    }
   ],
   "source": [
    "def get_num_correct(preds, labels):\n",
    "    return preds.argmax(dim=1).eq(labels).sum().item()\n",
    "\n",
    "running_loss = 0.0\n",
    "correct = 0.0\n",
    "\n",
    "# define a function to freeze the model layers\n",
    "def set_conv_parameter_requires_grad(model, req_grad = False):\n",
    "    for n,p in net.named_parameters():\n",
    "        if \"conv\" in n:\n",
    "            p.requires_grad = req_grad\n",
    "\n",
    "#set_conv_parameter_requires_grad(net)\n",
    "\n",
    "for epoch in range(1):  # loop over the dataset multiple times\n",
    "\n",
    "    for i, data in enumerate(trainloader, 0):\n",
    "\n",
    "        # get the inputs; data is a list of [inputs, labels]\n",
    "        inputs, labels = data\n",
    "        \n",
    "        # put data to device\n",
    "        inputs, labels = inputs.to(device), labels.to(device)\n",
    "        \n",
    "        # zero the parameter gradients\n",
    "        optimizer.zero_grad()\n",
    "\n",
    "        # forward + backward + optimize\n",
    "        outputs = net(inputs)\n",
    "        loss = criterion(outputs, labels)\n",
    "        loss.backward()\n",
    "\n",
    "        # ...log a Matplotlib Figure showing the model's gradients fo each layer\n",
    "        if i % 1000 == 999:\n",
    "            writer.add_figure('gradients',\n",
    "                            add_gradient_hist(net),\n",
    "                            global_step=epoch * len(trainloader) + i)\n",
    "\n",
    "        optimizer.step()\n",
    "\n",
    "        running_loss += loss.item()\n",
    "        \n",
    "        correct += get_num_correct(outputs, labels)\n",
    "        if i % 1000 == 999:    # every 1000 mini-batches...\n",
    "\n",
    "            # ...log the running loss\n",
    "            writer.add_scalar('training loss',\n",
    "                            running_loss / 1000,\n",
    "                            epoch * len(trainloader) + i)\n",
    "            # ...log the training accuracy\n",
    "            writer.add_scalar('training accuracy',\n",
    "                            correct / (1000*inputs.size(0)), # inputs.size(0) is the batch size\n",
    "                            epoch * len(trainloader) + i)\n",
    "            \n",
    "            print('It: {} Loss: {} Accuracy: {}'.format(epoch * len(trainloader) + i, running_loss / 1000, correct / (1000*inputs.size(0))))\n",
    "\n",
    "            # ...log a Matplotlib Figure showing the model's predictions on a\n",
    "            # random mini-batch\n",
    "            writer.add_figure('predictions vs. actuals',\n",
    "                            plot_classes_preds(net, inputs, labels),\n",
    "                            global_step=epoch * len(trainloader) + i)\n",
    "            \n",
    "            running_loss = 0.0\n",
    "            correct = 0.0\n",
    "writer.close()\n",
    "print('Finished Training')"
   ]
  },
  {
   "cell_type": "markdown",
   "id": "cb42480d-f0e1-4de0-9cca-b4041dd38dbf",
   "metadata": {},
   "source": [
    "# Assessing trained models with TensorBoard\n",
    "Let's calculate the precision recall curve of our model.\n",
    "\n",
    "REMINDER:\n",
    "\n",
    "![alt text](https://miro.medium.com/max/720/0*eBNoU76LKUuCS6ap.png)\n",
    "\n",
    "Precision $P$ is defined as the number of true positives ($T_p$) over the number of true positives plus the number of false positives ($F_p$). Precision can be thought of as the fraction of positive predictions that actually belong to the positive class:\n",
    "$$P = \\frac{T_p}{T_p + F_p}$$\n",
    "\n",
    "Recall $R$  is defined as the number of true positives ($T_p$) over the number of true positives plus the number of false negatives ($F_n$). Recall can be thought of as the fraction of positive predictions out of all positive instances in the data set:\n",
    "$$R = \\frac{T_p}{T_p + F_n}$$\n",
    "\n",
    "The precision-recall curve shows the tradeoff between precision and recall for different threshold. A high area under the curve represents both high recall and high precision, where high precision relates to a low false positive rate, and high recall relates to a low false negative rate. High scores for both show that the classifier is returning accurate results (high precision), as well as returning a majority of all positive results (high recall)."
   ]
  },
  {
   "cell_type": "code",
   "execution_count": 10,
   "id": "b14f457f-e642-49e2-beee-ebb26a0ea03a",
   "metadata": {},
   "outputs": [],
   "source": [
    "# 1. gets the probability predictions in a test_size x num_classes Tensor\n",
    "# 2. gets the preds in a test_size Tensor\n",
    "# takes ~10 seconds to run\n",
    "class_probs = []\n",
    "class_label = []\n",
    "with torch.no_grad():\n",
    "    for data in testloader:\n",
    "        images, labels = data\n",
    "        images, labels = images.to(device), labels.to(device)\n",
    "        output = net(images)\n",
    "        class_probs_batch = [F.softmax(el.cpu(), dim=0) for el in output]\n",
    "\n",
    "        class_probs.append(class_probs_batch)\n",
    "        class_label.append(labels.cpu())\n",
    "\n",
    "test_probs = torch.cat([torch.stack(batch) for batch in class_probs])\n",
    "test_label = torch.cat(class_label)\n",
    "\n",
    "# helper function\n",
    "def add_pr_curve_tensorboard(class_index, test_probs, test_label, global_step=0):\n",
    "    '''\n",
    "    Takes in a \"class_index\" from 0 to 9 and plots the corresponding\n",
    "    precision-recall curve\n",
    "    '''\n",
    "    tensorboard_truth = test_label == class_index\n",
    "    tensorboard_probs = test_probs[:, class_index]\n",
    "\n",
    "    writer.add_pr_curve(classes[class_index],\n",
    "                        tensorboard_truth,\n",
    "                        tensorboard_probs,\n",
    "                        global_step=global_step)\n",
    "    writer.close()\n",
    "\n",
    "# plot all the pr curves\n",
    "for i in range(len(classes)):\n",
    "    add_pr_curve_tensorboard(i, test_probs, test_label)"
   ]
  },
  {
   "cell_type": "code",
   "execution_count": null,
   "id": "7c2792a2-b39f-4a09-b7bb-6e47547fcf26",
   "metadata": {},
   "outputs": [],
   "source": []
  }
 ],
 "metadata": {
  "kernelspec": {
   "display_name": "Python 3",
   "language": "python",
   "name": "python3"
  },
  "language_info": {
   "codemirror_mode": {
    "name": "ipython",
    "version": 3
   },
   "file_extension": ".py",
   "mimetype": "text/x-python",
   "name": "python",
   "nbconvert_exporter": "python",
   "pygments_lexer": "ipython3",
   "version": "3.10.4"
  }
 },
 "nbformat": 4,
 "nbformat_minor": 5
}
