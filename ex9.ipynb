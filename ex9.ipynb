{
 "cells": [
  {
   "cell_type": "markdown",
   "id": "11c7bf3a-0fc0-4e0e-8e93-2291687e77df",
   "metadata": {},
   "source": [
    "# Visualize CNN kernels"
   ]
  },
  {
   "cell_type": "code",
   "execution_count": null,
   "id": "fdf6da24-46c9-4dae-88bb-54a20b5c0e7e",
   "metadata": {},
   "outputs": [],
   "source": [
    "import torch\n",
    "import torchvision\n",
    "import torchvision.transforms as transforms\n",
    "import torch.nn as nn\n",
    "import torch.nn.functional as F"
   ]
  },
  {
   "cell_type": "code",
   "execution_count": null,
   "id": "289c1ba2-e658-41ac-8a96-46dba70e0fdc",
   "metadata": {},
   "outputs": [],
   "source": [
    "device = torch.device(\"cuda:0\" if torch.cuda.is_available() else \"cpu\")\n",
    "print(device)"
   ]
  },
  {
   "cell_type": "code",
   "execution_count": null,
   "id": "b58c6825-97ef-4a68-9d66-623f06273b7e",
   "metadata": {},
   "outputs": [],
   "source": [
    "# Let's start by defining the model to finetune\n",
    "# For this example we will use VGG11\n",
    "import torchvision.models as models\n",
    "\n",
    "#vgg11 = models.vgg11(pretrained=True) # load vgg model pretrained on ImageNet\n",
    "#print(vgg11)\n",
    "\n",
    "alexnet = models.alexnet(pretrained=True).to(device)\n",
    "print(alexnet)"
   ]
  },
  {
   "cell_type": "code",
   "execution_count": null,
   "id": "a044ee86-73d7-4793-947e-179e100ee018",
   "metadata": {},
   "outputs": [],
   "source": [
    "import matplotlib.pyplot as plt\n",
    "import numpy as np\n",
    "import torch.nn.functional as F\n",
    "\n",
    "layers_list = [0,3,6,8,10]\n",
    "\n",
    "for k in layers_list:\n",
    "    # get the kernels from the first layer\n",
    "    # as per the name of the layer\n",
    "    kernels = alexnet.features[k].weight.detach().clone().cpu()\n",
    "    \n",
    "    #check size for sanity check\n",
    "    print(kernels.size())\n",
    "    \n",
    "    n,c,w,h = kernels.shape\n",
    "    row_num = 8\n",
    "\n",
    "    kernels = kernels.view(n*c, -1, w, h)\n",
    "\n",
    "    rows = np.min((kernels.shape[0] // row_num + 1, 16))\n",
    "           \n",
    "    if kernels.shape[0] > 64:\n",
    "        kernels = kernels[:64]\n",
    "    # normalize to (0,1) range so that matplotlib\n",
    "    # can plot them\n",
    "    kernels = kernels - kernels.min()\n",
    "    kernels = kernels / kernels.max()\n",
    "    \n",
    "    #kernels = F.interpolate(kernels, (20,20))\n",
    "    filter_img = torchvision.utils.make_grid(kernels, nrow = rows)\n",
    "    \n",
    "    plt.figure(figsize=(15, 5))\n",
    "    for i in range(kernels.shape[0]):\n",
    "        plt.subplot(row_num, rows, i + 1)\n",
    "        # change ordering since matplotlib requires images to \n",
    "        # be (H, W, C)\n",
    "        plt.imshow(kernels[i].permute(1, 2, 0))\n",
    "        plt.axis('off')\n"
   ]
  },
  {
   "cell_type": "markdown",
   "id": "cb54fb37-89c7-4d8c-bc2d-9ef4a5cb96ab",
   "metadata": {},
   "source": [
    "# Visualize CNN activations"
   ]
  },
  {
   "cell_type": "code",
   "execution_count": null,
   "id": "6090fab6-df69-4c8c-8f21-3d2d295b5483",
   "metadata": {},
   "outputs": [],
   "source": [
    "from PIL import Image # pip install Pillow\n",
    "\n",
    "# Load an image\n",
    "img = Image.open('res/cat.jpg')\n",
    "plt.imshow(img)\n",
    "plt.axis('off')"
   ]
  },
  {
   "cell_type": "code",
   "execution_count": null,
   "id": "f1e3356c-cee0-4e91-9eb9-7506fb9e1d77",
   "metadata": {},
   "outputs": [],
   "source": [
    "transform = transforms.Compose([transforms.CenterCrop((512,512)),\n",
    "                                transforms.Resize((256,256)),\n",
    "                                transforms.ToTensor(),\n",
    "                                transforms.Lambda(lambda x: x[:3])]) # remove the alpha channel if present\n",
    "img_tensor = transform(img)\n",
    "img_tensor = img_tensor.to(device)"
   ]
  },
  {
   "cell_type": "code",
   "execution_count": null,
   "id": "250e48a2-c7fb-4511-a4b7-83023323bdf9",
   "metadata": {},
   "outputs": [],
   "source": [
    "# Use HOOKS\n",
    "conv_output = []\n",
    "\n",
    "#append all the conv layers and their respective wights to the list\n",
    "def append_conv(self, input, output):\n",
    "    conv_output.append(output.detach().cpu())"
   ]
  },
  {
   "cell_type": "code",
   "execution_count": null,
   "id": "63c48216-f1b8-4ede-8866-1cd0c9d93cc7",
   "metadata": {},
   "outputs": [],
   "source": [
    "for k in layers_list:\n",
    "    alexnet.features[k].register_forward_hook(append_conv)"
   ]
  },
  {
   "cell_type": "code",
   "execution_count": null,
   "id": "b8c5b1c9-42d5-4601-8932-1bd96ae61946",
   "metadata": {},
   "outputs": [],
   "source": [
    "conv_output = []\n",
    "# pass the image through the net\n",
    "out = alexnet(img_tensor.unsqueeze(0))\n",
    "\n",
    "for c_out in conv_output:\n",
    "    print(c_out.size())"
   ]
  },
  {
   "cell_type": "code",
   "execution_count": null,
   "id": "b5bf3aef-f29c-4f1b-b715-f719b885e258",
   "metadata": {},
   "outputs": [],
   "source": [
    "for num_layer in range(len(conv_output)):\n",
    "    plt.figure(figsize=(30, 30))\n",
    "    layer_viz = conv_output[num_layer][0, :, :, :]\n",
    "    layer_viz = layer_viz.data\n",
    "    print(layer_viz.size())\n",
    "    for i, filter in enumerate(layer_viz):\n",
    "        if i == 64: # we will visualize only 8x8 blocks from each layer\n",
    "            break\n",
    "        plt.subplot(8, 8, i + 1)\n",
    "        plt.imshow(filter)\n",
    "        plt.axis(\"off\")"
   ]
  },
  {
   "cell_type": "code",
   "execution_count": null,
   "id": "df3eae60-f21d-46b9-b207-27c2c224f8fd",
   "metadata": {},
   "outputs": [],
   "source": []
  }
 ],
 "metadata": {
  "kernelspec": {
   "display_name": "Python 3",
   "language": "python",
   "name": "python3"
  },
  "language_info": {
   "codemirror_mode": {
    "name": "ipython",
    "version": 3
   },
   "file_extension": ".py",
   "mimetype": "text/x-python",
   "name": "python",
   "nbconvert_exporter": "python",
   "pygments_lexer": "ipython3",
   "version": "3.10.4"
  }
 },
 "nbformat": 4,
 "nbformat_minor": 5
}
